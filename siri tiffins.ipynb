{
 "cells": [
  {
   "cell_type": "code",
   "execution_count": 22,
   "id": "f04911a7",
   "metadata": {},
   "outputs": [],
   "source": [
    "tiffins=[\"dosa\",\"poori\",\"vada\",\"upma\",\"idly\",\"chapati\",\"punugulu\",\"pakodi\",\"bajji\",\"pongal\"]\n",
    "#[\"sunil\",\"siri\",\"govardan\",\"kusuma\",\"sasi\",\"kundana\",\"nani\",\"nikita\",\"abi\",\"chitti\"]"
   ]
  },
  {
   "cell_type": "code",
   "execution_count": 32,
   "id": "b5593462",
   "metadata": {},
   "outputs": [],
   "source": [
    "def tiffinsdelivery(tiffins):\n",
    "    for tiffins in tiffins:\n",
    "        print(\"tiffins---\",tiffins)\n",
    "        if tiffins==\"dosa\":\n",
    "            print(\"deliver to sunil\")\n",
    "        elif tiffins==\"poori\":\n",
    "            print(\"deliver to siri\")\n",
    "        elif tiffins==\"vada\":\n",
    "            print(\"deliver to govardan\")\n",
    "        elif tiffins==\"upma\":\n",
    "            print(\"deliver to vastalya\")\n",
    "        elif tiffins==\"idly\":  \n",
    "            print(\"deliver to kusuma\")\n",
    "        elif tiffins==\"chapati\":\n",
    "            print(\"deliver to sasi\")\n",
    "        elif tiffins==\"punugulu\":\n",
    "            print(\"deliver to kundana\")\n",
    "        elif tiffins==\"pakodi\":\n",
    "            print(\"deliver to nani\")\n",
    "        elif tiffins==\"bajji\":\n",
    "            print(\"deliver to nikita\")\n",
    "        elif tiffins==\"pongal\":\n",
    "            print(\"deliver to abi\")\n",
    "        else:\n",
    "            print(\"no delivery\")"
   ]
  },
  {
   "cell_type": "code",
   "execution_count": 33,
   "id": "f96b098b",
   "metadata": {},
   "outputs": [
    {
     "name": "stdout",
     "output_type": "stream",
     "text": [
      "tiffins--- dosa\n",
      "deliver to sunil\n",
      "tiffins--- poori\n",
      "deliver to siri\n",
      "tiffins--- vada\n",
      "deliver to govardan\n",
      "tiffins--- upma\n",
      "deliver to vastalya\n",
      "tiffins--- idly\n",
      "deliver to kusuma\n",
      "tiffins--- chapati\n",
      "deliver to sasi\n",
      "tiffins--- punugulu\n",
      "deliver to kundana\n",
      "tiffins--- pakodi\n",
      "deliver to nani\n",
      "tiffins--- bajji\n",
      "deliver to nikita\n",
      "tiffins--- pongal\n",
      "deliver to abi\n"
     ]
    }
   ],
   "source": [
    "tiffinsdelivery(tiffins)"
   ]
  },
  {
   "cell_type": "code",
   "execution_count": null,
   "id": "f6d14221",
   "metadata": {},
   "outputs": [],
   "source": []
  },
  {
   "cell_type": "code",
   "execution_count": null,
   "id": "07df7779",
   "metadata": {},
   "outputs": [],
   "source": []
  }
 ],
 "metadata": {
  "kernelspec": {
   "display_name": "Python 3 (ipykernel)",
   "language": "python",
   "name": "python3"
  },
  "language_info": {
   "codemirror_mode": {
    "name": "ipython",
    "version": 3
   },
   "file_extension": ".py",
   "mimetype": "text/x-python",
   "name": "python",
   "nbconvert_exporter": "python",
   "pygments_lexer": "ipython3",
   "version": "3.10.9"
  }
 },
 "nbformat": 4,
 "nbformat_minor": 5
}
