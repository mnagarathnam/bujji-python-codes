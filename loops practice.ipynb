{
 "cells": [
  {
   "cell_type": "code",
   "execution_count": 1,
   "id": "2f6e8a0c",
   "metadata": {},
   "outputs": [],
   "source": [
    "lst=[\"chicken\",\"mutton\",\"eggs\",\"france\",\"biryani\"]\n",
    "cust=[\"prasanna\",\"swati\",\"shahena\",\"bujji\"]"
   ]
  },
  {
   "cell_type": "code",
   "execution_count": 2,
   "id": "6bafaa2f",
   "metadata": {},
   "outputs": [
    {
     "name": "stdout",
     "output_type": "stream",
     "text": [
      "----item---- chicken\n",
      "----customer---- prasanna\n",
      "###---deliver to prasanna item chicken\n",
      "----customer---- swati\n",
      "no delivery swati\n",
      "----customer---- shahena\n",
      "no delivery shahena\n",
      "----customer---- bujji\n",
      "no delivery bujji\n",
      "----item---- mutton\n",
      "----customer---- prasanna\n",
      "no delivery prasanna\n",
      "----customer---- swati\n",
      "###---deliver to swati item mutton\n",
      "----customer---- shahena\n",
      "no delivery shahena\n",
      "----customer---- bujji\n",
      "###---deliver to bujji item mutton\n",
      "----item---- eggs\n",
      "----customer---- prasanna\n",
      "###---deliver to prasanna item eggs\n",
      "----customer---- swati\n",
      "no delivery swati\n",
      "----customer---- shahena\n",
      "###---deliver to shahena item eggs\n",
      "----customer---- bujji\n",
      "###---deliver to bujji item eggs\n",
      "----item---- france\n",
      "----customer---- prasanna\n",
      "no delivery prasanna\n",
      "----customer---- swati\n",
      "###---deliver to swati item france\n",
      "----customer---- shahena\n",
      "no delivery shahena\n",
      "----customer---- bujji\n",
      "no delivery bujji\n",
      "----item---- biryani\n",
      "----customer---- prasanna\n",
      "no delivery prasanna\n",
      "----customer---- swati\n",
      "no delivery swati\n",
      "----customer---- shahena\n",
      "###---deliver to shahena item biryani\n",
      "----customer---- bujji\n",
      "no delivery bujji\n"
     ]
    }
   ],
   "source": [
    "for item in lst:\n",
    "    print(\"----item----\",item)\n",
    "    for customer in cust:\n",
    "        print(\"----customer----\",customer)\n",
    "        if (item==\"chicken\"or item==\"eggs\")and (customer==\"prasanna\"):\n",
    "            print(\"###---deliver to\",customer,\"item\",item)\n",
    "        elif (item==\"mutton\"or item==\"france\")and (customer==\"swati\"):\n",
    "            print(\"###---deliver to\",customer,\"item\",item)\n",
    "        elif(item==\"eggs\"or item==\"biryani\")and (customer==\"shahena\"):\n",
    "            print(\"###---deliver to\",customer,\"item\",item)\n",
    "        elif(item==\"mutton\"or item==\"eggs\")and (customer==\"bujji\"):\n",
    "            print(\"###---deliver to\",customer,\"item\",item)\n",
    "        else:\n",
    "            print(\"no delivery\",customer)"
   ]
  },
  {
   "cell_type": "code",
   "execution_count": null,
   "id": "ad8e218a",
   "metadata": {},
   "outputs": [],
   "source": []
  }
 ],
 "metadata": {
  "kernelspec": {
   "display_name": "Python 3 (ipykernel)",
   "language": "python",
   "name": "python3"
  },
  "language_info": {
   "codemirror_mode": {
    "name": "ipython",
    "version": 3
   },
   "file_extension": ".py",
   "mimetype": "text/x-python",
   "name": "python",
   "nbconvert_exporter": "python",
   "pygments_lexer": "ipython3",
   "version": "3.10.9"
  }
 },
 "nbformat": 4,
 "nbformat_minor": 5
}
