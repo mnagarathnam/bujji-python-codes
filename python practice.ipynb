{
 "cells": [
  {
   "cell_type": "code",
   "execution_count": 1,
   "id": "f10f8e52",
   "metadata": {},
   "outputs": [
    {
     "data": {
      "text/plain": [
       "('siri', 'sunil', 'govardan')"
      ]
     },
     "execution_count": 1,
     "metadata": {},
     "output_type": "execute_result"
    }
   ],
   "source": [
    "name=\"siri\",\"sunil\",\"govardan\"\n",
    "name"
   ]
  },
  {
   "cell_type": "code",
   "execution_count": 1,
   "id": "9514e374",
   "metadata": {},
   "outputs": [
    {
     "data": {
      "text/plain": [
       "'siri'"
      ]
     },
     "execution_count": 1,
     "metadata": {},
     "output_type": "execute_result"
    }
   ],
   "source": [
    "frd='siri'\n",
    "frd"
   ]
  },
  {
   "cell_type": "code",
   "execution_count": 2,
   "id": "c3d5fe69",
   "metadata": {},
   "outputs": [
    {
     "name": "stdout",
     "output_type": "stream",
     "text": [
      "my daughter name siri\n"
     ]
    }
   ],
   "source": [
    "print(\"my daughter name\",frd)"
   ]
  },
  {
   "cell_type": "code",
   "execution_count": 3,
   "id": "06f08a7f",
   "metadata": {},
   "outputs": [
    {
     "data": {
      "text/plain": [
       "str"
      ]
     },
     "execution_count": 3,
     "metadata": {},
     "output_type": "execute_result"
    }
   ],
   "source": [
    "type(frd)"
   ]
  },
  {
   "cell_type": "code",
   "execution_count": 4,
   "id": "af654bb7",
   "metadata": {},
   "outputs": [
    {
     "name": "stdout",
     "output_type": "stream",
     "text": [
      "12\n"
     ]
    }
   ],
   "source": [
    "nub=12\n",
    "nub\n",
    "print(nub)"
   ]
  },
  {
   "cell_type": "code",
   "execution_count": 5,
   "id": "29003f1b",
   "metadata": {},
   "outputs": [
    {
     "data": {
      "text/plain": [
       "int"
      ]
     },
     "execution_count": 5,
     "metadata": {},
     "output_type": "execute_result"
    }
   ],
   "source": [
    "type(nub)"
   ]
  },
  {
   "cell_type": "code",
   "execution_count": 6,
   "id": "f3e3242a",
   "metadata": {},
   "outputs": [
    {
     "data": {
      "text/plain": [
       "10.5689"
      ]
     },
     "execution_count": 6,
     "metadata": {},
     "output_type": "execute_result"
    }
   ],
   "source": [
    "typ=10.5689\n",
    "typ"
   ]
  },
  {
   "cell_type": "code",
   "execution_count": 7,
   "id": "ba4d10f0",
   "metadata": {},
   "outputs": [
    {
     "name": "stdout",
     "output_type": "stream",
     "text": [
      "10.5689\n"
     ]
    }
   ],
   "source": [
    "print(typ)"
   ]
  },
  {
   "cell_type": "code",
   "execution_count": 8,
   "id": "5dcc0c95",
   "metadata": {},
   "outputs": [
    {
     "data": {
      "text/plain": [
       "float"
      ]
     },
     "execution_count": 8,
     "metadata": {},
     "output_type": "execute_result"
    }
   ],
   "source": [
    "type(typ)"
   ]
  },
  {
   "cell_type": "code",
   "execution_count": 9,
   "id": "f99efe29",
   "metadata": {},
   "outputs": [
    {
     "data": {
      "text/plain": [
       "['swathi', 'bujji', 'shaheena', 'prasanna']"
      ]
     },
     "execution_count": 9,
     "metadata": {},
     "output_type": "execute_result"
    }
   ],
   "source": [
    "frds=[\"swathi\",\"bujji\",\"shaheena\",\"prasanna\"]\n",
    "frds"
   ]
  },
  {
   "cell_type": "code",
   "execution_count": 10,
   "id": "08348753",
   "metadata": {},
   "outputs": [
    {
     "name": "stdout",
     "output_type": "stream",
     "text": [
      "my teem mets ['swathi', 'bujji', 'shaheena', 'prasanna']\n"
     ]
    }
   ],
   "source": [
    "print(\"my teem mets\",frds)"
   ]
  },
  {
   "cell_type": "code",
   "execution_count": 11,
   "id": "9a6accf5",
   "metadata": {},
   "outputs": [
    {
     "name": "stdout",
     "output_type": "stream",
     "text": [
      "['swathi', 'bujji', 'shaheena', 'prasanna']\n"
     ]
    }
   ],
   "source": [
    "frds=[\"swathi\",\"bujji\",\"shaheena\",\"prasanna\"]\n",
    "print(frds)"
   ]
  },
  {
   "cell_type": "code",
   "execution_count": 12,
   "id": "c939e8b2",
   "metadata": {},
   "outputs": [
    {
     "data": {
      "text/plain": [
       "'bujji'"
      ]
     },
     "execution_count": 12,
     "metadata": {},
     "output_type": "execute_result"
    }
   ],
   "source": [
    "frds[1]"
   ]
  },
  {
   "cell_type": "code",
   "execution_count": 13,
   "id": "8f2fb2d7",
   "metadata": {},
   "outputs": [
    {
     "data": {
      "text/plain": [
       "'bujji'"
      ]
     },
     "execution_count": 13,
     "metadata": {},
     "output_type": "execute_result"
    }
   ],
   "source": [
    "frds[-3]"
   ]
  },
  {
   "cell_type": "code",
   "execution_count": null,
   "id": "adef34b0",
   "metadata": {},
   "outputs": [],
   "source": [
    "# frds[st:en+1]"
   ]
  },
  {
   "cell_type": "code",
   "execution_count": 14,
   "id": "5822cc87",
   "metadata": {},
   "outputs": [
    {
     "data": {
      "text/plain": [
       "['shaheena', 'prasanna']"
      ]
     },
     "execution_count": 14,
     "metadata": {},
     "output_type": "execute_result"
    }
   ],
   "source": [
    "frds[2:4]"
   ]
  },
  {
   "cell_type": "code",
   "execution_count": 15,
   "id": "2b5a415b",
   "metadata": {},
   "outputs": [
    {
     "data": {
      "text/plain": [
       "['swathi', 'siri', 'shaheena', 'prasanna']"
      ]
     },
     "execution_count": 15,
     "metadata": {},
     "output_type": "execute_result"
    }
   ],
   "source": [
    "frds[1]=\"siri\"\n",
    "frds"
   ]
  },
  {
   "cell_type": "code",
   "execution_count": 16,
   "id": "e63204c0",
   "metadata": {},
   "outputs": [
    {
     "data": {
      "text/plain": [
       "['bujji', 'siri', 'shaheena', 'prasanna']"
      ]
     },
     "execution_count": 16,
     "metadata": {},
     "output_type": "execute_result"
    }
   ],
   "source": [
    "frds[0]=\"bujji\"\n",
    "frds"
   ]
  },
  {
   "cell_type": "code",
   "execution_count": 17,
   "id": "538bd366",
   "metadata": {},
   "outputs": [
    {
     "data": {
      "text/plain": [
       "('swathi', 'bujji', 'shaheena', 'prasanna')"
      ]
     },
     "execution_count": 17,
     "metadata": {},
     "output_type": "execute_result"
    }
   ],
   "source": [
    "friends=(\"swathi\",\"bujji\",\"shaheena\",\"prasanna\")\n",
    "friends"
   ]
  },
  {
   "cell_type": "code",
   "execution_count": 18,
   "id": "09eb973a",
   "metadata": {},
   "outputs": [
    {
     "name": "stdout",
     "output_type": "stream",
     "text": [
      "('swathi', 'bujji', 'shaheena', 'prasanna')\n"
     ]
    }
   ],
   "source": [
    "print(friends)"
   ]
  },
  {
   "cell_type": "code",
   "execution_count": 19,
   "id": "8fe96dbe",
   "metadata": {},
   "outputs": [
    {
     "data": {
      "text/plain": [
       "'shaheena'"
      ]
     },
     "execution_count": 19,
     "metadata": {},
     "output_type": "execute_result"
    }
   ],
   "source": [
    "friends[2]"
   ]
  },
  {
   "cell_type": "code",
   "execution_count": 20,
   "id": "adfb6c45",
   "metadata": {},
   "outputs": [
    {
     "data": {
      "text/plain": [
       "{0, 1, 8, 40, 52}"
      ]
     },
     "execution_count": 20,
     "metadata": {},
     "output_type": "execute_result"
    }
   ],
   "source": [
    "st={1,0,40,52,8}\n",
    "st"
   ]
  },
  {
   "cell_type": "code",
   "execution_count": 30,
   "id": "d2c5d796",
   "metadata": {},
   "outputs": [
    {
     "data": {
      "text/plain": [
       "{'girls': ['bujji', 'siri', 'swathi', 'rama'], 'marks': [10, 20, 25, 15]}"
      ]
     },
     "execution_count": 30,
     "metadata": {},
     "output_type": "execute_result"
    }
   ],
   "source": [
    "clas={\"girls\":[\"bujji\",\"siri\",\"swathi\",\"rama\"],\"marks\":[10,20,25,15]}\n",
    "clas"
   ]
  },
  {
   "cell_type": "code",
   "execution_count": 39,
   "id": "8e54d4c2",
   "metadata": {},
   "outputs": [
    {
     "data": {
      "text/plain": [
       "'swathi'"
      ]
     },
     "execution_count": 39,
     "metadata": {},
     "output_type": "execute_result"
    }
   ],
   "source": [
    "clas[\"girls\"][2]"
   ]
  },
  {
   "cell_type": "code",
   "execution_count": 40,
   "id": "2bf08a0d",
   "metadata": {},
   "outputs": [
    {
     "data": {
      "text/plain": [
       "['bujji', 'siri', 'swathi', 'rama']"
      ]
     },
     "execution_count": 40,
     "metadata": {},
     "output_type": "execute_result"
    }
   ],
   "source": [
    "clas[\"girls\"][0:4]"
   ]
  },
  {
   "cell_type": "code",
   "execution_count": 41,
   "id": "e06162a7",
   "metadata": {},
   "outputs": [
    {
     "data": {
      "text/plain": [
       "25"
      ]
     },
     "execution_count": 41,
     "metadata": {},
     "output_type": "execute_result"
    }
   ],
   "source": [
    "clas[\"marks\"][2]"
   ]
  },
  {
   "cell_type": "code",
   "execution_count": null,
   "id": "7c7c92db",
   "metadata": {},
   "outputs": [],
   "source": [
    "#conditions\n",
    "if-----true\n",
    "if else-------true or flase\n",
    "if elif else----more than two conditions"
   ]
  },
  {
   "cell_type": "code",
   "execution_count": null,
   "id": "fa453183",
   "metadata": {},
   "outputs": [],
   "source": [
    "syntax:\n",
    "if condition:\n",
    "    statements\n",
    "    statements\n",
    "\n",
    "    \n",
    "    --if else--\n",
    "if condition:\n",
    "    statements\n",
    "    statements\n",
    "else:\n",
    "    statements\n",
    "    \n",
    "    \n",
    "   ----if elif else---\n",
    "if condition:\n",
    "    statements\n",
    "    statements\n",
    "elif condition:\n",
    "    statements\n",
    "    statements\n",
    "else:\n",
    "    statements"
   ]
  },
  {
   "cell_type": "code",
   "execution_count": 43,
   "id": "5ed01f2e",
   "metadata": {},
   "outputs": [
    {
     "name": "stdout",
     "output_type": "stream",
     "text": [
      "cost of drink 100\n"
     ]
    }
   ],
   "source": [
    "drink=100\n",
    "if drink==100:\n",
    "    print(\"cost of drink\",drink)"
   ]
  },
  {
   "cell_type": "code",
   "execution_count": 44,
   "id": "637b9154",
   "metadata": {},
   "outputs": [
    {
     "name": "stdout",
     "output_type": "stream",
     "text": [
      "loss 20\n"
     ]
    }
   ],
   "source": [
    "milk=20\n",
    "if milk>20:\n",
    "    print(\"profit\",milk)\n",
    "else:\n",
    "    print(\"loss\",milk)"
   ]
  },
  {
   "cell_type": "code",
   "execution_count": 45,
   "id": "fda00b9f",
   "metadata": {},
   "outputs": [
    {
     "name": "stdout",
     "output_type": "stream",
     "text": [
      "profit 40\n"
     ]
    }
   ],
   "source": [
    "milk=40\n",
    "if milk>20:\n",
    "    print(\"profit\",milk)\n",
    "else:\n",
    "    print(\"loss\",milk)"
   ]
  },
  {
   "cell_type": "code",
   "execution_count": 46,
   "id": "249df70d",
   "metadata": {},
   "outputs": [
    {
     "name": "stdout",
     "output_type": "stream",
     "text": [
      "profit 102\n"
     ]
    }
   ],
   "source": [
    "milk=102\n",
    "if milk>100:\n",
    "    print(\"profit\",milk)\n",
    "elif milk<100:\n",
    "    print(\"loss\",milk)\n",
    "else:\n",
    "    print(\"no profit and no loss\")"
   ]
  },
  {
   "cell_type": "code",
   "execution_count": 47,
   "id": "948061a1",
   "metadata": {},
   "outputs": [
    {
     "name": "stdout",
     "output_type": "stream",
     "text": [
      "loss 99\n"
     ]
    }
   ],
   "source": [
    "milk=99\n",
    "if milk>100:\n",
    "    print(\"profit\",milk)\n",
    "elif milk<100:\n",
    "    print(\"loss\",milk)\n",
    "else:\n",
    "    print(\"no profit and no loss\")"
   ]
  },
  {
   "cell_type": "code",
   "execution_count": 48,
   "id": "b3a4ef14",
   "metadata": {},
   "outputs": [
    {
     "name": "stdout",
     "output_type": "stream",
     "text": [
      "no profit and no loss\n"
     ]
    }
   ],
   "source": [
    "milk=100\n",
    "if milk>100:\n",
    "    print(\"profit\",milk)\n",
    "elif milk<100:\n",
    "    print(\"loss\",milk)\n",
    "else:\n",
    "    print(\"no profit and no loss\")"
   ]
  },
  {
   "cell_type": "code",
   "execution_count": 50,
   "id": "18a66489",
   "metadata": {},
   "outputs": [
    {
     "name": "stdout",
     "output_type": "stream",
     "text": [
      "profit 100\n"
     ]
    }
   ],
   "source": [
    "milk=100\n",
    "if milk>=100:\n",
    "    print(\"profit\",milk)\n",
    "else:\n",
    "    print(\"no profit and no loss\")"
   ]
  },
  {
   "cell_type": "code",
   "execution_count": 53,
   "id": "46cee0e5",
   "metadata": {},
   "outputs": [
    {
     "name": "stdout",
     "output_type": "stream",
     "text": [
      "profit 101\n",
      "profit 111\n"
     ]
    }
   ],
   "source": [
    "sales=101\n",
    "bonous=10\n",
    "if sales>100:\n",
    "    print(\"profit\",sales)\n",
    "    bonous=10\n",
    "    sales_new=sales+bonous\n",
    "    print(\"profit\",sales_new)\n",
    "else:\n",
    "    print(\"loss\",sales)\n",
    "    \n",
    "    "
   ]
  },
  {
   "cell_type": "code",
   "execution_count": 57,
   "id": "bf0d3836",
   "metadata": {},
   "outputs": [
    {
     "name": "stdout",
     "output_type": "stream",
     "text": [
      "profit 101\n",
      "profit 121\n"
     ]
    }
   ],
   "source": [
    "sales=101\n",
    "if sales>100:\n",
    "    print(\"profit\",sales)\n",
    "    bonous=20\n",
    "    sales_new=sales+bonous\n",
    "    print(\"profit\",sales_new)\n",
    "else:\n",
    "    print(\"loss\",sales)"
   ]
  },
  {
   "cell_type": "code",
   "execution_count": 58,
   "id": "acb36bc3",
   "metadata": {},
   "outputs": [
    {
     "name": "stdout",
     "output_type": "stream",
     "text": [
      "loss 92\n",
      "loss 72\n"
     ]
    }
   ],
   "source": [
    "sales=92\n",
    "if sales>100:\n",
    "    print(\"profit\",sales)\n",
    "    bonous=20\n",
    "    sales_new=sales+bonous\n",
    "    print(\"profit\",sales_new)\n",
    "elif sales<100:\n",
    "    print(\"loss\",sales)\n",
    "    bonous=20\n",
    "    sales_loss=sales-bonous\n",
    "    print(\"loss\",sales_loss)\n",
    "else:\n",
    "    print(\"loss\",sales)"
   ]
  },
  {
   "cell_type": "code",
   "execution_count": null,
   "id": "a95edbb6",
   "metadata": {},
   "outputs": [],
   "source": []
  }
 ],
 "metadata": {
  "kernelspec": {
   "display_name": "Python 3 (ipykernel)",
   "language": "python",
   "name": "python3"
  },
  "language_info": {
   "codemirror_mode": {
    "name": "ipython",
    "version": 3
   },
   "file_extension": ".py",
   "mimetype": "text/x-python",
   "name": "python",
   "nbconvert_exporter": "python",
   "pygments_lexer": "ipython3",
   "version": "3.10.9"
  }
 },
 "nbformat": 4,
 "nbformat_minor": 5
}
